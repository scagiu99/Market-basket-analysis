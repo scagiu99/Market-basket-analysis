{
  "cells": [
    {
      "cell_type": "markdown",
      "metadata": {
        "id": "7dfa72e7"
      },
      "source": [
        "# Project 2: Market-basket analysis for the course of Algorithms for Massive Datasets"
      ],
      "id": "7dfa72e7"
    },
    {
      "cell_type": "markdown",
      "metadata": {
        "id": "67cef13b"
      },
      "source": [
        "### Installation of packages and API configuration"
      ],
      "id": "67cef13b"
    },
    {
      "cell_type": "code",
      "execution_count": 1,
      "metadata": {
        "colab": {
          "base_uri": "https://localhost:8080/"
        },
        "id": "pavyi-IyDFMq",
        "outputId": "8fac32aa-688c-4f15-99b5-99dd2726267d"
      },
      "outputs": [
        {
          "output_type": "stream",
          "name": "stdout",
          "text": [
            "Requirement already satisfied: kaggle in /usr/local/lib/python3.10/dist-packages (1.5.16)\n",
            "Requirement already satisfied: six>=1.10 in /usr/local/lib/python3.10/dist-packages (from kaggle) (1.16.0)\n",
            "Requirement already satisfied: certifi in /usr/local/lib/python3.10/dist-packages (from kaggle) (2023.7.22)\n",
            "Requirement already satisfied: python-dateutil in /usr/local/lib/python3.10/dist-packages (from kaggle) (2.8.2)\n",
            "Requirement already satisfied: requests in /usr/local/lib/python3.10/dist-packages (from kaggle) (2.31.0)\n",
            "Requirement already satisfied: tqdm in /usr/local/lib/python3.10/dist-packages (from kaggle) (4.66.1)\n",
            "Requirement already satisfied: python-slugify in /usr/local/lib/python3.10/dist-packages (from kaggle) (8.0.1)\n",
            "Requirement already satisfied: urllib3 in /usr/local/lib/python3.10/dist-packages (from kaggle) (2.0.4)\n",
            "Requirement already satisfied: bleach in /usr/local/lib/python3.10/dist-packages (from kaggle) (6.0.0)\n",
            "Requirement already satisfied: webencodings in /usr/local/lib/python3.10/dist-packages (from bleach->kaggle) (0.5.1)\n",
            "Requirement already satisfied: text-unidecode>=1.3 in /usr/local/lib/python3.10/dist-packages (from python-slugify->kaggle) (1.3)\n",
            "Requirement already satisfied: charset-normalizer<4,>=2 in /usr/local/lib/python3.10/dist-packages (from requests->kaggle) (3.2.0)\n",
            "Requirement already satisfied: idna<4,>=2.5 in /usr/local/lib/python3.10/dist-packages (from requests->kaggle) (3.4)\n"
          ]
        }
      ],
      "source": [
        "!pip install kaggle"
      ],
      "id": "pavyi-IyDFMq"
    },
    {
      "cell_type": "code",
      "execution_count": 2,
      "metadata": {
        "colab": {
          "base_uri": "https://localhost:8080/"
        },
        "id": "-expAE6yFqDA",
        "outputId": "6ce7dfc8-fe62-432c-b549-cfbce831c2d7"
      },
      "outputs": [
        {
          "output_type": "stream",
          "name": "stdout",
          "text": [
            "Collecting pyspark\n",
            "  Downloading pyspark-3.4.1.tar.gz (310.8 MB)\n",
            "\u001b[2K     \u001b[90m━━━━━━━━━━━━━━━━━━━━━━━━━━━━━━━━━━━━━━━\u001b[0m \u001b[32m310.8/310.8 MB\u001b[0m \u001b[31m4.5 MB/s\u001b[0m eta \u001b[36m0:00:00\u001b[0m\n",
            "\u001b[?25h  Preparing metadata (setup.py) ... \u001b[?25l\u001b[?25hdone\n",
            "Requirement already satisfied: py4j==0.10.9.7 in /usr/local/lib/python3.10/dist-packages (from pyspark) (0.10.9.7)\n",
            "Building wheels for collected packages: pyspark\n",
            "  Building wheel for pyspark (setup.py) ... \u001b[?25l\u001b[?25hdone\n",
            "  Created wheel for pyspark: filename=pyspark-3.4.1-py2.py3-none-any.whl size=311285387 sha256=d6baf05ea27219e474f9a85862e7937e5a4aee4c543babf066cc32f1c108cada\n",
            "  Stored in directory: /root/.cache/pip/wheels/0d/77/a3/ff2f74cc9ab41f8f594dabf0579c2a7c6de920d584206e0834\n",
            "Successfully built pyspark\n",
            "Installing collected packages: pyspark\n",
            "Successfully installed pyspark-3.4.1\n"
          ]
        }
      ],
      "source": [
        "!pip install pyspark"
      ],
      "id": "-expAE6yFqDA"
    },
    {
      "cell_type": "code",
      "execution_count": null,
      "metadata": {
        "id": "7p25yED-1WP2"
      },
      "outputs": [],
      "source": [
        "#Upload the kaggle.json file with the API key\n",
        "from google.colab import files\n",
        "files.upload()"
      ],
      "id": "7p25yED-1WP2"
    },
    {
      "cell_type": "code",
      "execution_count": 4,
      "metadata": {
        "id": "o1Ut0dV11l8H"
      },
      "outputs": [],
      "source": [
        "! mkdir ~/.kaggle\n",
        "! cp kaggle.json ~/.kaggle/\n",
        "! chmod 600 ~/.kaggle/kaggle.json"
      ],
      "id": "o1Ut0dV11l8H"
    },
    {
      "cell_type": "code",
      "execution_count": 5,
      "metadata": {
        "id": "891e8f30"
      },
      "outputs": [],
      "source": [
        "import pyspark\n",
        "import kaggle\n",
        "\n",
        "import time\n",
        "import itertools\n",
        "from itertools import combinations"
      ],
      "id": "891e8f30"
    },
    {
      "cell_type": "code",
      "execution_count": 6,
      "metadata": {
        "id": "Me_AbYtH3xX5"
      },
      "outputs": [],
      "source": [
        "from pyspark.sql import SparkSession, Row\n",
        "spark = SparkSession.builder.master(\"local[*]\").getOrCreate()\n",
        "sc = spark.sparkContext"
      ],
      "id": "Me_AbYtH3xX5"
    },
    {
      "cell_type": "markdown",
      "metadata": {
        "id": "52cbb010"
      },
      "source": [
        "### Download and access to the Yelp data"
      ],
      "id": "52cbb010"
    },
    {
      "cell_type": "code",
      "execution_count": 7,
      "metadata": {
        "colab": {
          "base_uri": "https://localhost:8080/"
        },
        "id": "HaMQXOg12D-_",
        "outputId": "a7fcd48c-08d6-4e80-be4f-18e475d6e6ec"
      },
      "outputs": [
        {
          "output_type": "stream",
          "name": "stdout",
          "text": [
            "Downloading yelp_academic_dataset_review.json.zip to /content\n",
            "100% 2.06G/2.07G [00:14<00:00, 114MB/s]\n",
            "100% 2.07G/2.07G [00:14<00:00, 152MB/s]\n"
          ]
        }
      ],
      "source": [
        "!kaggle datasets download -d yelp-dataset/yelp-dataset -f yelp_academic_dataset_review.json"
      ],
      "id": "HaMQXOg12D-_"
    },
    {
      "cell_type": "code",
      "execution_count": 8,
      "metadata": {
        "colab": {
          "base_uri": "https://localhost:8080/"
        },
        "id": "2RrrWA2FaQo3",
        "outputId": "7d28560e-c6a8-4d6d-c5d5-dcacfe0e616a"
      },
      "outputs": [
        {
          "output_type": "stream",
          "name": "stdout",
          "text": [
            "Archive:  /content/yelp_academic_dataset_review.json.zip\n",
            "  inflating: yelp_academic_dataset_review.json  \n"
          ]
        }
      ],
      "source": [
        "!unzip '/content/yelp_academic_dataset_review.json.zip'"
      ],
      "id": "2RrrWA2FaQo3"
    },
    {
      "cell_type": "code",
      "execution_count": 9,
      "metadata": {
        "colab": {
          "base_uri": "https://localhost:8080/"
        },
        "id": "LAxABLOmszpw",
        "outputId": "d71c9f22-2805-4e67-806b-25d7dd3548b8"
      },
      "outputs": [
        {
          "output_type": "stream",
          "name": "stdout",
          "text": [
            "+--------------------+----+-------------------+-----+--------------------+-----+--------------------+------+--------------------+\n",
            "|         business_id|cool|               date|funny|           review_id|stars|                text|useful|             user_id|\n",
            "+--------------------+----+-------------------+-----+--------------------+-----+--------------------+------+--------------------+\n",
            "|XQfwVwDr-v0ZS3_Cb...|   0|2018-07-07 22:09:11|    0|KU_O5udG6zpxOg-Vc...|  3.0|If you decide to ...|     0|mh_-eMZ6K5RLWhZyI...|\n",
            "|7ATYjTIgM3jUlt4UM...|   1|2012-01-03 15:28:18|    0|BiTunyQ73aT9WBnpR...|  5.0|I've taken a lot ...|     1|OyoGAe7OKpv6SyGZT...|\n",
            "|YjUWPpI6HXG530lwP...|   0|2014-02-05 20:30:30|    0|saUsX_uimxRlCVr67...|  3.0|Family diner. Had...|     0|8g_iMtfSiwikVnbP2...|\n",
            "|kxX2SOes4o-D3ZQBk...|   1|2015-01-04 00:01:03|    0|AqPFMleE6RsU23_au...|  5.0|Wow!  Yummy, diff...|     1|_7bHUi9Uuf5__HHc_...|\n",
            "|e4Vwtrqf-wpJfwesg...|   1|2017-01-14 20:54:15|    0|Sx8TMOWLNuJBWer-0...|  4.0|Cute interior and...|     1|bcjbaE6dDog4jkNY9...|\n",
            "|04UD14gamNjLY0IDY...|   1|2015-09-23 23:10:31|    2|JrIxlS1TzJ-iCu79u...|  1.0|I am a long term ...|     1|eUta8W_HdHMXPzLBB...|\n",
            "|gmjsEdUsKpj9Xxu6p...|   0|2015-01-03 23:21:18|    2|6AxgBCNX_PNTOxmbR...|  5.0|Loved this tour! ...|     0|r3zeYsv1XFBRA4dJp...|\n",
            "|LHSTtnW3YHCeUkRDG...|   0|2015-08-07 02:29:16|    0|_ZeMknuYdlQcUqng_...|  5.0|Amazingly amazing...|     2|yfFzsLmaWF2d4Sr0U...|\n",
            "|B5XSoSG3SfvQGtKEG...|   0|2016-03-30 22:46:33|    1|ZKvDG2sBvHVdF5oBN...|  3.0|This easter inste...|     1|wSTuiTk-sKNdcFypr...|\n",
            "|gebiRewfieSdtt17P...|   0|2016-07-25 07:31:06|    0|pUycOfUwM8vqX7KjR...|  3.0|Had a party of 6 ...|     0|59MxRhNVhU9MYndMk...|\n",
            "|uMvVYRgGNXf5boolA...|   0|2015-06-21 14:48:06|    0|rGQRf8UafX7OTlMNN...|  5.0|My experience wit...|     2|1WHRWwQmZOZDAhp2Q...|\n",
            "|EQ-TZ2eeD_E0BHuvo...|   0|2015-08-19 14:31:45|    0|l3Wk_mvAog6XANIuG...|  4.0|Locals recommende...|     0|ZbqSHbgCjzVAqaa7N...|\n",
            "|lj-E32x9_FA7GmUrB...|   0|2014-06-27 22:44:01|    0|XW_LfMv0fV21l9c6x...|  4.0|Love going here f...|     0|9OAtfnWag-ajVxRbU...|\n",
            "|RZtGWDLCAtuipwaZ-...|   0|2009-10-14 19:57:14|    0|8JFGBuHMoiNDyfcxu...|  4.0|Good food--loved ...|     0|smOvOajNG0lS4Pq7d...|\n",
            "|otQS34_MymijPTdNB...|   0|2011-10-27 17:12:05|    2|UBp0zWyH60Hmw6Fsa...|  4.0|The bun makes the...|     0|4Uh27DgGzsp6PqrH9...|\n",
            "|BVndHaLihEYbr76Z0...|   0|2014-10-11 16:22:06|    0|OAhBYw8IQ6wlfw1ow...|  5.0|Great place for b...|     0|1C2lxzUo1Hyye4RFI...|\n",
            "|YtSqYv1Q_pOltsVPS...|   0|2013-06-24 11:21:25|    0|oyaMhzBSwfGgemSGu...|  5.0|Tremendous servic...|     0|Dd1jQj7S-BFGqRbAp...|\n",
            "|rBdG_23USc7DletfZ...|   0|2014-08-10 19:41:43|    0|LnGZB0fjfgeVDVz5I...|  4.0|The hubby and I h...|     1|j2wlzrntrbKwyOcOi...|\n",
            "|CLEWowfkj-wKYJlQD...|   1|2016-03-07 00:02:18|    0|u2vzZaOqJ2feRshaa...|  5.0|I go to blow bar ...|     2|NDZvyYHTUWWu-kqgQ...|\n",
            "|eFvzHawVJofxSnD7T...|   0|2014-11-12 15:30:27|    0|Xs8Z8lmKkosqW5mw_...|  5.0|My absolute favor...|     0|IQsF3Rc6IgCzjVV9D...|\n",
            "+--------------------+----+-------------------+-----+--------------------+-----+--------------------+------+--------------------+\n",
            "only showing top 20 rows\n",
            "\n"
          ]
        }
      ],
      "source": [
        "#Loading the JSON file in a Spark DataFrame\n",
        "data = spark.read.json(\"/content/yelp_academic_dataset_review.json\")\n",
        "data.show()"
      ],
      "id": "LAxABLOmszpw"
    },
    {
      "cell_type": "markdown",
      "metadata": {
        "id": "-OZYly-AuYF0"
      },
      "source": [
        "Counting how many rows are in the dataset, about 7 millions of rows"
      ],
      "id": "-OZYly-AuYF0"
    },
    {
      "cell_type": "code",
      "execution_count": 10,
      "metadata": {
        "id": "FStuv3XLPfxS"
      },
      "outputs": [],
      "source": [
        "data = data.select(\"text\")\n",
        "data_count = data.count()"
      ],
      "id": "FStuv3XLPfxS"
    },
    {
      "cell_type": "code",
      "source": [
        "data_count"
      ],
      "metadata": {
        "colab": {
          "base_uri": "https://localhost:8080/"
        },
        "id": "0-6ca1GpV9Bw",
        "outputId": "6de2e89d-cfa4-497b-8fbd-bd720c16974e"
      },
      "id": "0-6ca1GpV9Bw",
      "execution_count": 11,
      "outputs": [
        {
          "output_type": "execute_result",
          "data": {
            "text/plain": [
              "6990280"
            ]
          },
          "metadata": {},
          "execution_count": 11
        }
      ]
    },
    {
      "cell_type": "markdown",
      "metadata": {
        "id": "QelKeOLAaCLe"
      },
      "source": [
        "### Pre-processing of words in text reviews"
      ],
      "id": "QelKeOLAaCLe"
    },
    {
      "cell_type": "markdown",
      "metadata": {
        "id": "PZfcGYHhkwWL"
      },
      "source": [
        "Import the libraries for pre-processing"
      ],
      "id": "PZfcGYHhkwWL"
    },
    {
      "cell_type": "code",
      "execution_count": 12,
      "metadata": {
        "colab": {
          "base_uri": "https://localhost:8080/"
        },
        "id": "fQfYXtquO5wk",
        "outputId": "7a155789-ebc9-448a-e77a-936e78ffa723"
      },
      "outputs": [
        {
          "output_type": "stream",
          "name": "stderr",
          "text": [
            "[nltk_data] Downloading package stopwords to /root/nltk_data...\n",
            "[nltk_data]   Unzipping corpora/stopwords.zip.\n",
            "[nltk_data] Downloading package punkt to /root/nltk_data...\n",
            "[nltk_data]   Unzipping tokenizers/punkt.zip.\n",
            "[nltk_data] Downloading package wordnet to /root/nltk_data...\n"
          ]
        }
      ],
      "source": [
        "import nltk\n",
        "#Stopwords to remove from the text\n",
        "from nltk.corpus import stopwords\n",
        "nltk.download('stopwords')\n",
        "stop_words = set(stopwords.words(\"english\"))\n",
        "#To tokenize words\n",
        "from nltk.tokenize import word_tokenize\n",
        "nltk.download('punkt')\n",
        "#To lematize words\n",
        "from nltk.stem import WordNetLemmatizer\n",
        "nltk.download('wordnet')\n",
        "lemmatizer = WordNetLemmatizer()"
      ],
      "id": "fQfYXtquO5wk"
    },
    {
      "cell_type": "markdown",
      "metadata": {
        "id": "6dK8AR1vkRuW"
      },
      "source": [
        "Pre-processing"
      ],
      "id": "6dK8AR1vkRuW"
    },
    {
      "cell_type": "code",
      "execution_count": 13,
      "metadata": {
        "id": "tQXHHGja2_xv"
      },
      "outputs": [],
      "source": [
        "def data_preprocessing(text):\n",
        "\n",
        "  #Make text lower and tokenize it if it is an alphabetic word\n",
        "  text = [word.lower() for word in word_tokenize(text) if word.isalpha()]\n",
        "  #Remove stopwords\n",
        "  text = [word for word in text if word.lower() not in stop_words]\n",
        "  #Lematize words\n",
        "  text = [lemmatizer.lemmatize(word) for word in text]\n",
        "  # Remove duplicates from the list\n",
        "  text = list(set(text))\n",
        "\n",
        "  return text"
      ],
      "id": "tQXHHGja2_xv"
    },
    {
      "cell_type": "code",
      "source": [
        "#Number of rows for the sample\n",
        "count_baskets = 1000"
      ],
      "metadata": {
        "id": "RagYP2TmR-3p"
      },
      "id": "RagYP2TmR-3p",
      "execution_count": 14,
      "outputs": []
    },
    {
      "cell_type": "code",
      "source": [
        "#Sample of the dataset, taking a very small fraction of the dataset to test the algorithm\n",
        "data_rdd = data.rdd.sample(withReplacement=False, fraction=count_baskets/data_count, seed=151)\\\n",
        "           .map(lambda row: data_preprocessing(row.text)).cache()"
      ],
      "metadata": {
        "id": "NCZFjaklCNyl"
      },
      "id": "NCZFjaklCNyl",
      "execution_count": 15,
      "outputs": []
    },
    {
      "cell_type": "code",
      "source": [
        "data_rdd.take(1)"
      ],
      "metadata": {
        "colab": {
          "base_uri": "https://localhost:8080/"
        },
        "id": "m4_nnjYnEJ4G",
        "outputId": "45b05f20-2bba-468b-91ed-767806e3298e"
      },
      "id": "m4_nnjYnEJ4G",
      "execution_count": null,
      "outputs": [
        {
          "output_type": "execute_result",
          "data": {
            "text/plain": [
              "[['entertaining',\n",
              "  'fun',\n",
              "  'go',\n",
              "  'relaxed',\n",
              "  'place',\n",
              "  'good',\n",
              "  'show',\n",
              "  'always',\n",
              "  'atmosphere',\n",
              "  'price',\n",
              "  'food',\n",
              "  'fair',\n",
              "  'time']]"
            ]
          },
          "metadata": {},
          "execution_count": 90
        }
      ]
    },
    {
      "cell_type": "markdown",
      "metadata": {
        "id": "pNFZGvP0FOy3"
      },
      "source": [
        "## Apriori Algorithm"
      ],
      "id": "pNFZGvP0FOy3"
    },
    {
      "cell_type": "markdown",
      "metadata": {
        "id": "hRUhP3GeuCsx"
      },
      "source": [
        "Computing Frequent items"
      ],
      "id": "hRUhP3GeuCsx"
    },
    {
      "cell_type": "code",
      "execution_count": null,
      "metadata": {
        "id": "THMdfciO-KTv"
      },
      "outputs": [],
      "source": [
        "#Function to compute the frequent single items\n",
        "def freq_items(data, support):\n",
        "\n",
        "  start_time = time.time()\n",
        "\n",
        "  #Counting how many times a word appears in the list of reviews\n",
        "  words = data.flatMap(lambda words: words) \\\n",
        "                       .map(lambda word: (word, 1)) \\\n",
        "                       .reduceByKey(lambda a, b: a + b)\n",
        "\n",
        "  # Filter words with the support threshold\n",
        "  freq_items = words.filter(lambda word_count: word_count[1] >= support)\n",
        "\n",
        "  end_time = time.time()\n",
        "  execution_time = end_time - start_time\n",
        "  print(\"Time of execution to compute frequent items: \", execution_time)\n",
        "\n",
        "  return freq_items"
      ],
      "id": "THMdfciO-KTv"
    },
    {
      "cell_type": "markdown",
      "source": [
        "Testing the freq_items function with a sample of the dataset"
      ],
      "metadata": {
        "id": "9N942ZIlNpjT"
      },
      "id": "9N942ZIlNpjT"
    },
    {
      "cell_type": "code",
      "source": [
        "threshold = 0.05"
      ],
      "metadata": {
        "id": "Er0bWXo1N2Dr"
      },
      "execution_count": null,
      "outputs": [],
      "id": "Er0bWXo1N2Dr"
    },
    {
      "cell_type": "code",
      "source": [
        "support_threshold = int(threshold*count_baskets)\n",
        "support_threshold"
      ],
      "metadata": {
        "colab": {
          "base_uri": "https://localhost:8080/"
        },
        "outputId": "6f516d7e-337a-46f1-ac17-bcd460375cf1",
        "id": "6aT3XePcN2Dr"
      },
      "execution_count": null,
      "outputs": [
        {
          "output_type": "execute_result",
          "data": {
            "text/plain": [
              "50"
            ]
          },
          "metadata": {},
          "execution_count": 109
        }
      ],
      "id": "6aT3XePcN2Dr"
    },
    {
      "cell_type": "code",
      "source": [
        "freq_items_yelp = freq_items(data_rdd, support_threshold)"
      ],
      "metadata": {
        "colab": {
          "base_uri": "https://localhost:8080/"
        },
        "outputId": "7f062618-cf37-4f6f-fd34-ece5929b568d",
        "id": "-xVSznqVN2Ds"
      },
      "execution_count": null,
      "outputs": [
        {
          "output_type": "stream",
          "name": "stdout",
          "text": [
            "Time of execution to compute frequent items:  0.01924896240234375\n"
          ]
        }
      ],
      "id": "-xVSznqVN2Ds"
    },
    {
      "cell_type": "code",
      "source": [
        "freq_items_yelp.collect()"
      ],
      "metadata": {
        "colab": {
          "base_uri": "https://localhost:8080/"
        },
        "outputId": "f3102c08-ac9e-4858-aedb-021c1d48af2e",
        "id": "fWcBZnBYN2Ds"
      },
      "execution_count": null,
      "outputs": [
        {
          "output_type": "execute_result",
          "data": {
            "text/plain": [
              "[('sandwich', 50),\n",
              " ('everything', 91),\n",
              " ('would', 216),\n",
              " ('two', 75),\n",
              " ('restaurant', 129),\n",
              " ('something', 60),\n",
              " ('bar', 70),\n",
              " ('wanted', 58),\n",
              " ('side', 66),\n",
              " ('tried', 63),\n",
              " ('around', 71),\n",
              " ('since', 67),\n",
              " ('get', 210),\n",
              " ('also', 172),\n",
              " ('even', 132),\n",
              " ('got', 142),\n",
              " ('pizza', 53),\n",
              " ('different', 58),\n",
              " ('last', 65),\n",
              " ('table', 72),\n",
              " ('sauce', 69),\n",
              " ('bit', 64),\n",
              " ('server', 70),\n",
              " ('people', 98),\n",
              " ('definitely', 114),\n",
              " ('sure', 84),\n",
              " ('could', 130),\n",
              " ('wait', 88),\n",
              " ('find', 58),\n",
              " ('favorite', 72),\n",
              " ('salad', 57),\n",
              " ('ever', 79),\n",
              " ('ca', 67),\n",
              " ('customer', 73),\n",
              " ('many', 60),\n",
              " ('thing', 99),\n",
              " ('need', 59),\n",
              " ('said', 71),\n",
              " ('meal', 63),\n",
              " ('look', 58),\n",
              " ('year', 72),\n",
              " ('done', 56),\n",
              " ('much', 99),\n",
              " ('asked', 57),\n",
              " ('eat', 60),\n",
              " ('location', 64),\n",
              " ('go', 215),\n",
              " ('long', 70),\n",
              " ('delicious', 131),\n",
              " ('first', 112),\n",
              " ('price', 110),\n",
              " ('make', 115),\n",
              " ('told', 56),\n",
              " ('nice', 141),\n",
              " ('place', 320),\n",
              " ('back', 195),\n",
              " ('one', 204),\n",
              " ('want', 76),\n",
              " ('taste', 53),\n",
              " ('come', 125),\n",
              " ('ordered', 114),\n",
              " ('beer', 50),\n",
              " ('see', 64),\n",
              " ('let', 53),\n",
              " ('really', 141),\n",
              " ('staff', 150),\n",
              " ('work', 66),\n",
              " ('like', 227),\n",
              " ('feel', 56),\n",
              " ('great', 318),\n",
              " ('still', 66),\n",
              " ('always', 121),\n",
              " ('area', 61),\n",
              " ('day', 104),\n",
              " ('happy', 52),\n",
              " ('well', 116),\n",
              " ('better', 66),\n",
              " ('review', 60),\n",
              " ('away', 51),\n",
              " ('think', 71),\n",
              " ('right', 71),\n",
              " ('new', 90),\n",
              " ('way', 78),\n",
              " ('visit', 55),\n",
              " ('dish', 53),\n",
              " ('friend', 73),\n",
              " ('small', 72),\n",
              " ('good', 301),\n",
              " ('came', 95),\n",
              " ('excellent', 58),\n",
              " ('food', 336),\n",
              " ('cheese', 68),\n",
              " ('experience', 99),\n",
              " ('lot', 71),\n",
              " ('friendly', 134),\n",
              " ('try', 116),\n",
              " ('take', 89),\n",
              " ('home', 52),\n",
              " ('pretty', 80),\n",
              " ('worth', 59),\n",
              " ('another', 82),\n",
              " ('chicken', 83),\n",
              " ('made', 122),\n",
              " ('going', 80),\n",
              " ('best', 149),\n",
              " ('give', 77),\n",
              " ('hot', 50),\n",
              " ('coming', 51),\n",
              " ('flavor', 61),\n",
              " ('clean', 61),\n",
              " ('hour', 66),\n",
              " ('went', 120),\n",
              " ('bad', 65),\n",
              " ('never', 107),\n",
              " ('though', 60),\n",
              " ('u', 114),\n",
              " ('amazing', 100),\n",
              " ('enough', 50),\n",
              " ('minute', 53),\n",
              " ('drink', 92),\n",
              " ('perfect', 60),\n",
              " ('service', 257),\n",
              " ('every', 75),\n",
              " ('selection', 52),\n",
              " ('menu', 104),\n",
              " ('fresh', 75),\n",
              " ('left', 52),\n",
              " ('next', 82),\n",
              " ('dinner', 74),\n",
              " ('say', 87),\n",
              " ('spot', 58),\n",
              " ('super', 66),\n",
              " ('atmosphere', 64),\n",
              " ('time', 288),\n",
              " ('little', 109),\n",
              " ('order', 112),\n",
              " ('special', 51),\n",
              " ('star', 60),\n",
              " ('took', 71),\n",
              " ('know', 90),\n",
              " ('night', 70),\n",
              " ('recommend', 105),\n",
              " ('love', 126),\n",
              " ('awesome', 63),\n",
              " ('looking', 55),\n",
              " ('lunch', 61),\n",
              " ('option', 64)]"
            ]
          },
          "metadata": {},
          "execution_count": 113
        }
      ],
      "id": "fWcBZnBYN2Ds"
    },
    {
      "cell_type": "code",
      "source": [
        "len(freq_items_yelp.collect())"
      ],
      "metadata": {
        "colab": {
          "base_uri": "https://localhost:8080/"
        },
        "outputId": "109dcb81-aac0-4cdc-a2ec-f4f844296555",
        "id": "Uoe1hoE2N2Ds"
      },
      "execution_count": null,
      "outputs": [
        {
          "output_type": "execute_result",
          "data": {
            "text/plain": [
              "147"
            ]
          },
          "metadata": {},
          "execution_count": 114
        }
      ],
      "id": "Uoe1hoE2N2Ds"
    },
    {
      "cell_type": "markdown",
      "metadata": {
        "id": "iTGz1YmMuFNv"
      },
      "source": [
        "Frequent pairs itemsets k = 2"
      ],
      "id": "iTGz1YmMuFNv"
    },
    {
      "cell_type": "code",
      "execution_count": null,
      "metadata": {
        "id": "zc5N6lKB-kcg"
      },
      "outputs": [],
      "source": [
        "def freq_pairs_itemsets(data, frequent_items, support):\n",
        "\n",
        "  start_time = time.time()\n",
        "\n",
        "  #Taking the items\n",
        "  items = frequent_items.map(lambda word: word[0])\n",
        "  print(items.collect())\n",
        "  items_broadcast = sc.broadcast(items.collect())\n",
        "\n",
        "  #Counting how many times a couple of words appears\n",
        "  count_pairs = data.flatMap(lambda words: [word for word in itertools.combinations(words, 2) if set(word).issubset(set(items_broadcast.value)) ]) \\\n",
        "                       .map(lambda word:(word, 1)) \\\n",
        "                       .reduceByKey(lambda a, b: a + b)\n",
        "\n",
        "  # Filter pairs with the support threshold to consider just the frequent pairs\n",
        "  freq_pairs = count_pairs.filter(lambda pair_count: pair_count[1] >= support)\n",
        "\n",
        "  end_time = time.time()\n",
        "  execution_time = end_time - start_time\n",
        "  print(\"Time of execution to compute frequent pairs itemsets: \", execution_time)\n",
        "\n",
        "  return freq_pairs"
      ],
      "id": "zc5N6lKB-kcg"
    },
    {
      "cell_type": "markdown",
      "source": [
        "Testing the freq_pairs_itemsets function with a sample of the dataset"
      ],
      "metadata": {
        "id": "Ewa6bDiwOS2I"
      },
      "id": "Ewa6bDiwOS2I"
    },
    {
      "cell_type": "code",
      "source": [
        "freq_pairs_itemsets_yelp = freq_pairs_itemsets(data_rdd, freq_items_yelp, support_threshold)"
      ],
      "metadata": {
        "colab": {
          "base_uri": "https://localhost:8080/"
        },
        "outputId": "49687f55-690f-4afd-9252-291d577284eb",
        "id": "HKVR9XFiOS2J"
      },
      "execution_count": null,
      "outputs": [
        {
          "output_type": "stream",
          "name": "stdout",
          "text": [
            "['sandwich', 'everything', 'would', 'two', 'restaurant', 'something', 'bar', 'wanted', 'side', 'tried', 'around', 'since', 'get', 'also', 'even', 'got', 'pizza', 'different', 'last', 'table', 'sauce', 'bit', 'server', 'people', 'definitely', 'sure', 'could', 'wait', 'find', 'favorite', 'salad', 'ever', 'ca', 'customer', 'many', 'thing', 'need', 'said', 'meal', 'look', 'year', 'done', 'much', 'asked', 'eat', 'location', 'go', 'long', 'delicious', 'first', 'price', 'make', 'told', 'nice', 'place', 'back', 'one', 'want', 'taste', 'come', 'ordered', 'beer', 'see', 'let', 'really', 'staff', 'work', 'like', 'feel', 'great', 'still', 'always', 'area', 'day', 'happy', 'well', 'better', 'review', 'away', 'think', 'right', 'new', 'way', 'visit', 'dish', 'friend', 'small', 'good', 'came', 'excellent', 'food', 'cheese', 'experience', 'lot', 'friendly', 'try', 'take', 'home', 'pretty', 'worth', 'another', 'chicken', 'made', 'going', 'best', 'give', 'hot', 'coming', 'flavor', 'clean', 'hour', 'went', 'bad', 'never', 'though', 'u', 'amazing', 'enough', 'minute', 'drink', 'perfect', 'service', 'every', 'selection', 'menu', 'fresh', 'left', 'next', 'dinner', 'say', 'spot', 'super', 'atmosphere', 'time', 'little', 'order', 'special', 'star', 'took', 'know', 'night', 'recommend', 'love', 'awesome', 'looking', 'lunch', 'option']\n",
            "Time of execution to compute frequent pairs itemsets:  9.839946746826172\n"
          ]
        }
      ],
      "id": "HKVR9XFiOS2J"
    },
    {
      "cell_type": "code",
      "source": [
        "freq_pairs_itemsets_yelp.collect()"
      ],
      "metadata": {
        "colab": {
          "base_uri": "https://localhost:8080/"
        },
        "outputId": "ca2b02de-2d71-4335-9828-4d83653ecc8a",
        "id": "fNCn1u70OS2K"
      },
      "execution_count": null,
      "outputs": [
        {
          "output_type": "execute_result",
          "data": {
            "text/plain": [
              "[(('food', 'time'), 85),\n",
              " (('also', 'service'), 56),\n",
              " (('service', 'food'), 52),\n",
              " (('like', 'service'), 65),\n",
              " (('also', 'great'), 53),\n",
              " (('would', 'good'), 72),\n",
              " (('food', 'would'), 78),\n",
              " (('food', 'staff'), 50),\n",
              " (('great', 'food'), 50),\n",
              " (('place', 'staff'), 64),\n",
              " (('one', 'good'), 81),\n",
              " (('place', 'like'), 66),\n",
              " (('place', 'service'), 60),\n",
              " (('get', 'go'), 62),\n",
              " (('service', 'time'), 54),\n",
              " (('back', 'good'), 79),\n",
              " (('food', 'nice'), 54),\n",
              " (('one', 'service'), 68),\n",
              " (('friendly', 'food'), 50),\n",
              " (('really', 'good'), 69),\n",
              " (('good', 'service'), 67),\n",
              " (('like', 'good'), 56),\n",
              " (('place', 'nice'), 53),\n",
              " (('recommend', 'would'), 52),\n",
              " (('place', 'good'), 116),\n",
              " (('would', 'time'), 58),\n",
              " (('back', 'would'), 63),\n",
              " (('go', 'good'), 79),\n",
              " (('place', 'great'), 88),\n",
              " (('little', 'food'), 57),\n",
              " (('place', 'also'), 50),\n",
              " (('great', 'time'), 98),\n",
              " (('one', 'go'), 58),\n",
              " (('place', 'time'), 76),\n",
              " (('back', 'time'), 76),\n",
              " (('food', 'get'), 51),\n",
              " (('food', 'good'), 122),\n",
              " (('place', 'love'), 53),\n",
              " (('food', 'service'), 70),\n",
              " (('food', 'great'), 82),\n",
              " (('place', 'come'), 55),\n",
              " (('nice', 'good'), 61),\n",
              " (('good', 'time'), 72),\n",
              " (('could', 'would'), 53),\n",
              " (('like', 'time'), 53),\n",
              " (('place', 'would'), 88),\n",
              " (('place', 'food'), 135),\n",
              " (('go', 'would'), 63),\n",
              " (('food', 'go'), 73),\n",
              " (('one', 'also'), 53),\n",
              " (('go', 'time'), 59),\n",
              " (('get', 'like'), 67),\n",
              " (('get', 'would'), 72),\n",
              " (('service', 'great'), 78),\n",
              " (('get', 'service'), 70),\n",
              " (('place', 'go'), 80),\n",
              " (('back', 'go'), 70),\n",
              " (('one', 'best'), 52),\n",
              " (('get', 'great'), 68),\n",
              " (('got', 'one'), 53),\n",
              " (('first', 'time'), 53),\n",
              " (('back', 'come'), 51),\n",
              " (('come', 'good'), 50),\n",
              " (('got', 'like'), 54),\n",
              " (('got', 'good'), 65),\n",
              " (('got', 'service'), 51),\n",
              " (('made', 'time'), 50),\n",
              " (('back', 'great'), 67),\n",
              " (('friendly', 'great'), 50),\n",
              " (('little', 'good'), 61),\n",
              " (('little', 'great'), 55),\n",
              " (('delicious', 'food'), 53),\n",
              " (('back', 'get'), 50),\n",
              " (('good', 'great'), 71),\n",
              " (('get', 'good'), 76),\n",
              " (('got', 'time'), 58),\n",
              " (('really', 'like'), 52),\n",
              " (('one', 'time'), 77),\n",
              " (('like', 'also'), 65),\n",
              " (('great', 'restaurant'), 51),\n",
              " (('thing', 'good'), 51),\n",
              " (('get', 'also'), 58),\n",
              " (('one', 'like'), 71),\n",
              " (('could', 'service'), 50),\n",
              " (('back', 'like'), 68),\n",
              " (('one', 'would'), 67),\n",
              " (('back', 'service'), 56),\n",
              " (('get', 'time'), 82),\n",
              " (('went', 'good'), 50)]"
            ]
          },
          "metadata": {},
          "execution_count": 120
        }
      ],
      "id": "fNCn1u70OS2K"
    },
    {
      "cell_type": "code",
      "source": [
        "len(freq_items_yelp.collect())"
      ],
      "metadata": {
        "colab": {
          "base_uri": "https://localhost:8080/"
        },
        "outputId": "daa79c60-ceb5-44c6-c93f-9f84869842e6",
        "id": "dfcL2hk-OS2K"
      },
      "execution_count": null,
      "outputs": [
        {
          "output_type": "execute_result",
          "data": {
            "text/plain": [
              "147"
            ]
          },
          "metadata": {},
          "execution_count": 121
        }
      ],
      "id": "dfcL2hk-OS2K"
    },
    {
      "cell_type": "markdown",
      "metadata": {
        "id": "tjFmIfZKXvvW"
      },
      "source": [
        "Apriori algorithm implementation\n",
        "*   I define a function for the apriori algorithm which:\n",
        "  *   In the first step compute frequent items\n",
        "  *   Then I generate the k-combinations that are used next to compute the frequent itemsets and to speed up the process I use a broadcast function\n",
        "  *   At the end I compute the frequent k-itemsets and the necessary time for the execution of the algorithm"
      ],
      "id": "tjFmIfZKXvvW"
    },
    {
      "cell_type": "code",
      "execution_count": null,
      "metadata": {
        "id": "yyeVQ7QDXy90"
      },
      "outputs": [],
      "source": [
        "def apriori(data, support_threshold):\n",
        "\n",
        "  #Counting how many times a word appears in the list of reviews\n",
        "  freq_items = data.flatMap(lambda words: words) \\\n",
        "                       .map(lambda word: (word, 1)) \\\n",
        "                       .reduceByKey(lambda a, b: a + b) \\\n",
        "                       .filter(lambda word_count: word_count[1] >= support_threshold)\n",
        "\n",
        "  start_time = time.time()\n",
        "  freq_itemsets = freq_items\n",
        "\n",
        "  freq_items = freq_items.map(lambda word: word[0])\n",
        "\n",
        "  k = 2\n",
        "  while True:\n",
        "\n",
        "    print(f\"Computing {k}-broadcast items\")\n",
        "\n",
        "    items_broadcast = sc.broadcast(freq_items.collect())\n",
        "\n",
        "    print(f\"Computing the {k}-itemsets\")\n",
        "\n",
        "    #Counting how many times a k-combination of words appears\n",
        "    new_itemsets = data.flatMap(lambda words: [word for word in itertools.combinations(words, k) if set(word).issubset(set(items_broadcast.value)) ]) \\\n",
        "                       .map(lambda word:(word, 1)) \\\n",
        "                       .reduceByKey(lambda a, b: a + b) \\\n",
        "                       .filter(lambda itemsets_count: itemsets_count[1] >= support_threshold)\n",
        "\n",
        "    # Combine the new itemsets with the existing ones\n",
        "    if not new_itemsets.isEmpty():\n",
        "      freq_itemsets = freq_itemsets.union(new_itemsets)\n",
        "\n",
        "    # Update freq_items for the next iteration\n",
        "    freq_items = new_itemsets.map(lambda word: word[0])\n",
        "\n",
        "    #Check if freq_items is empty and if yes, stop the computation\n",
        "    if freq_items.isEmpty():\n",
        "      break\n",
        "\n",
        "    k += 1\n",
        "\n",
        "  end_time = time.time()\n",
        "  execution_time = end_time - start_time\n",
        "  print(\"Time of execution of the algorithm: \", execution_time)\n",
        "\n",
        "  return freq_itemsets"
      ],
      "id": "yyeVQ7QDXy90"
    },
    {
      "cell_type": "markdown",
      "metadata": {
        "id": "kfWRi7GXqwdl"
      },
      "source": [
        "Testing the algorithm with a small sample of the Yelp dataset, small for having a computation in short time because for the lack of computational resources and testing different kind of threshold"
      ],
      "id": "kfWRi7GXqwdl"
    },
    {
      "cell_type": "markdown",
      "source": [
        "Threhold 0.03"
      ],
      "metadata": {
        "id": "TGUWT2MzQ0uE"
      },
      "id": "TGUWT2MzQ0uE"
    },
    {
      "cell_type": "code",
      "source": [
        "threshold = 0.03"
      ],
      "metadata": {
        "id": "6fs1qbV8Q4Wb"
      },
      "execution_count": null,
      "outputs": [],
      "id": "6fs1qbV8Q4Wb"
    },
    {
      "cell_type": "code",
      "source": [
        "support_threshold = int(threshold*count_baskets)\n",
        "support_threshold"
      ],
      "metadata": {
        "colab": {
          "base_uri": "https://localhost:8080/"
        },
        "outputId": "56e27cf8-5e17-4c1b-8c4b-d0257b7cb9fa",
        "id": "8eMiJAJOQ4Wb"
      },
      "execution_count": null,
      "outputs": [
        {
          "output_type": "execute_result",
          "data": {
            "text/plain": [
              "30"
            ]
          },
          "metadata": {},
          "execution_count": 135
        }
      ],
      "id": "8eMiJAJOQ4Wb"
    },
    {
      "cell_type": "code",
      "source": [
        "freq_itemsets_yelp = apriori(data_rdd, support_threshold)"
      ],
      "metadata": {
        "colab": {
          "base_uri": "https://localhost:8080/"
        },
        "outputId": "d3954377-e048-4d7b-dfbc-245477ca5314",
        "id": "GVZ74LZjQ4Wc"
      },
      "execution_count": null,
      "outputs": [
        {
          "output_type": "stream",
          "name": "stdout",
          "text": [
            "Computing 2-broadcast items\n",
            "Computing the 2-itemsets\n",
            "Computing 3-broadcast items\n",
            "Computing the 3-itemsets\n",
            "Time of execution of the algorithm:  604.4841439723969\n"
          ]
        }
      ],
      "id": "GVZ74LZjQ4Wc"
    },
    {
      "cell_type": "code",
      "source": [
        "type(freq_itemsets_yelp)"
      ],
      "metadata": {
        "colab": {
          "base_uri": "https://localhost:8080/"
        },
        "outputId": "58a72ddc-0576-47cd-9bc5-75d32935d171",
        "id": "53_V_qTMQ4Wc"
      },
      "execution_count": null,
      "outputs": [
        {
          "output_type": "execute_result",
          "data": {
            "text/plain": [
              "pyspark.rdd.RDD"
            ]
          },
          "metadata": {},
          "execution_count": 137
        }
      ],
      "id": "53_V_qTMQ4Wc"
    },
    {
      "cell_type": "code",
      "source": [
        "freq_itemsets_yelp.collect()"
      ],
      "metadata": {
        "colab": {
          "base_uri": "https://localhost:8080/"
        },
        "outputId": "27e634ab-1715-4d22-c53a-5084e52df421",
        "id": "DgPds8lfQ4Wc"
      },
      "execution_count": null,
      "outputs": [
        {
          "output_type": "execute_result",
          "data": {
            "text/plain": [
              "[('sandwich', 50),\n",
              " ('everything', 91),\n",
              " ('would', 216),\n",
              " ('two', 75),\n",
              " ('restaurant', 129),\n",
              " ('overall', 43),\n",
              " ('manager', 30),\n",
              " ('something', 60),\n",
              " ('family', 31),\n",
              " ('bar', 70),\n",
              " ('free', 37),\n",
              " ('getting', 42),\n",
              " ('quality', 45),\n",
              " (('food', 'time'), 85),\n",
              " (('could', 'get'), 48),\n",
              " (('love', 'best'), 30),\n",
              " (('food', 'went'), 32),\n",
              " (('get', 'place'), 33),\n",
              " (('one', 'well'), 42),\n",
              " (('make', 'go'), 42),\n",
              " (('back', 'made'), 40),\n",
              " (('back', 'much'), 31),\n",
              " (('place', 'day'), 32),\n",
              " (('get', 'ordered'), 32),\n",
              " ('today', 34),\n",
              " ('else', 39),\n",
              " ('wanted', 58),\n",
              " ('return', 36),\n",
              " ('side', 66),\n",
              " ('almost', 37),\n",
              " (('staff', 'great'), 49),\n",
              " (('another', 'would'), 32),\n",
              " (('like', 'great'), 43),\n",
              " (('also', 'service'), 56),\n",
              " (('food', 'try'), 30),\n",
              " (('well', 'service'), 45),\n",
              " (('place', 'best'), 37),\n",
              " (('give', 'time'), 36),\n",
              " (('service', 'food'), 52),\n",
              " (('restaurant', 'food'), 30),\n",
              " (('time', 'sure'), 38),\n",
              " ('tried', 63),\n",
              " ('around', 71),\n",
              " ('tasty', 40),\n",
              " ('room', 46),\n",
              " (('place', 'little'), 31),\n",
              " (('like', 'would'), 31),\n",
              " (('food', 'also'), 42),\n",
              " (('like', 'service'), 65),\n",
              " (('also', 'great'), 53),\n",
              " (('food', 'dinner'), 35),\n",
              " (('great', 'made'), 38),\n",
              " (('would', 'good'), 72),\n",
              " (('really', 'would'), 43),\n",
              " (('came', 'service'), 30),\n",
              " (('good', 'like'), 33),\n",
              " ('guy', 38),\n",
              " ('since', 67),\n",
              " ('get', 210),\n",
              " ('fast', 33),\n",
              " ('also', 172),\n",
              " ('actually', 40),\n",
              " ('called', 37),\n",
              " (('great', 'everything'), 39),\n",
              " (('would', 'day'), 36),\n",
              " (('really', 'also'), 36),\n",
              " (('delicious', 'go'), 34),\n",
              " (('place', 'recommend'), 33),\n",
              " (('time', 'say'), 38),\n",
              " (('got', 'ordered'), 37),\n",
              " (('good', 'also'), 43),\n",
              " (('pretty', 'time'), 38),\n",
              " (('food', 'would'), 78),\n",
              " (('food', 'staff'), 50),\n",
              " (('definitely', 'great'), 35),\n",
              " (('menu', 'restaurant'), 31),\n",
              " (('price', 'great'), 38),\n",
              " ('even', 132),\n",
              " ('tell', 40),\n",
              " ('got', 142),\n",
              " ('pizza', 53),\n",
              " ('different', 58),\n",
              " ('shrimp', 34),\n",
              " ('last', 65),\n",
              " (('still', 'food'), 31),\n",
              " (('great', 'food'), 50),\n",
              " (('recommend', 'good'), 33),\n",
              " (('make', 'service'), 40),\n",
              " (('love', 'service'), 34),\n",
              " (('recommend', 'service'), 36),\n",
              " (('delicious', 'time'), 43),\n",
              " (('could', 'back'), 35),\n",
              " (('way', 'like'), 36),\n",
              " (('definitely', 'service'), 37),\n",
              " (('price', 'service'), 30),\n",
              " ('nothing', 48),\n",
              " ('table', 72),\n",
              " ('sauce', 69),\n",
              " ('bit', 64),\n",
              " ('server', 70),\n",
              " ('people', 98),\n",
              " ('breakfast', 37),\n",
              " (('back', 'came'), 40),\n",
              " (('place', 'really'), 35),\n",
              " (('place', 'staff'), 64),\n",
              " (('could', 'like'), 38),\n",
              " (('one', 'good'), 81),\n",
              " (('place', 'like'), 66),\n",
              " (('place', 'service'), 60),\n",
              " (('get', 'go'), 62),\n",
              " (('service', 'time'), 54),\n",
              " (('place', 'restaurant'), 32),\n",
              " (('back', 'good'), 79),\n",
              " (('new', 'place'), 38),\n",
              " (('food', 'nice'), 54),\n",
              " (('food', 'sure'), 37),\n",
              " (('staff', 'time'), 31),\n",
              " (('one', 'service'), 68),\n",
              " ('kind', 47),\n",
              " ('definitely', 114),\n",
              " ('able', 32),\n",
              " ('wine', 32),\n",
              " ('sure', 84),\n",
              " ('open', 31),\n",
              " (('could', 'great'), 49),\n",
              " (('delicious', 'also'), 41),\n",
              " (('service', 'best'), 43),\n",
              " (('time', 'next'), 46),\n",
              " (('really', 'go'), 43),\n",
              " (('first', 'also'), 35),\n",
              " (('get', 'order'), 37),\n",
              " (('give', 'like'), 30),\n",
              " (('got', 'would'), 43),\n",
              " (('last', 'like'), 31),\n",
              " (('make', 'sure'), 33),\n",
              " ('could', 130),\n",
              " ('wait', 88),\n",
              " ('fantastic', 37),\n",
              " ('portion', 36),\n",
              " ('meat', 42),\n",
              " ('find', 58),\n",
              " ('waitress', 30),\n",
              " (('food', 'got'), 36),\n",
              " (('like', 'u'), 37),\n",
              " (('friendly', 'food'), 50),\n",
              " (('order', 'service'), 38),\n",
              " (('like', 'place'), 35),\n",
              " ('favorite', 72),\n",
              " ('item', 30),\n",
              " ('wonderful', 35),\n",
              " ('salad', 57),\n",
              " ('ever', 79),\n",
              " ('ca', 67),\n",
              " ('customer', 73),\n",
              " (('one', 'much'), 42),\n",
              " (('every', 'time'), 45),\n",
              " (('back', 'going'), 32),\n",
              " (('place', 'dinner'), 31),\n",
              " (('always', 'like'), 32),\n",
              " (('also', 'place'), 30),\n",
              " (('back', 'also'), 45),\n",
              " (('would', 'sure'), 32),\n",
              " (('could', 'also'), 32),\n",
              " ('many', 60),\n",
              " ('keep', 31),\n",
              " ('thing', 99),\n",
              " ('absolutely', 46),\n",
              " ('need', 59),\n",
              " ('door', 32),\n",
              " ('wrong', 31),\n",
              " ('coffee', 40),\n",
              " ('old', 36),\n",
              " (('really', 'great'), 35),\n",
              " (('friendly', 'one'), 31),\n",
              " (('amazing', 'go'), 33),\n",
              " (('could', 'go'), 33),\n",
              " (('wait', 'go'), 32),\n",
              " (('right', 'time'), 35),\n",
              " (('little', 'nice'), 35),\n",
              " (('back', 'even'), 39),\n",
              " (('last', 'time'), 35),\n",
              " ('said', 71),\n",
              " ('anything', 41),\n",
              " ('meal', 63),\n",
              " ('look', 58),\n",
              " ('year', 72),\n",
              " ('line', 32),\n",
              " (('really', 'good'), 69),\n",
              " (('staff', 'good'), 37),\n",
              " (('little', 'one'), 37),\n",
              " (('great', 'much'), 32),\n",
              " (('want', 'time'), 34),\n",
              " (('good', 'service'), 67),\n",
              " (('place', 'went'), 33),\n",
              " (('great', 'going'), 30),\n",
              " (('like', 'good'), 56),\n",
              " (('menu', 'also'), 33),\n",
              " (('feel', 'like'), 30),\n",
              " (('really', 'service'), 39),\n",
              " ('done', 56),\n",
              " ('much', 99),\n",
              " ('care', 41),\n",
              " ('asked', 57),\n",
              " ('eat', 60),\n",
              " ('location', 64),\n",
              " ('burger', 32),\n",
              " ('disappointed', 36),\n",
              " (('always', 'time'), 41),\n",
              " (('like', 'next'), 31),\n",
              " (('thing', 'would'), 38),\n",
              " (('little', 'got'), 34),\n",
              " (('food', 'like'), 49),\n",
              " (('one', 'make'), 47),\n",
              " (('went', 'go'), 46),\n",
              " (('place', 'nice'), 53),\n",
              " (('one', 'sure'), 30),\n",
              " (('time', 'go'), 30),\n",
              " ('go', 215),\n",
              " ('already', 30),\n",
              " ('long', 70),\n",
              " ('walk', 33),\n",
              " ('cream', 33),\n",
              " (('get', 'day'), 35),\n",
              " (('make', 'like'), 41),\n",
              " (('wait', 'one'), 31),\n",
              " (('get', 'well'), 33),\n",
              " (('place', 'friend'), 34),\n",
              " (('could', 'ordered'), 30),\n",
              " (('recommend', 'would'), 52),\n",
              " (('get', 'much'), 30),\n",
              " (('food', 'menu'), 30),\n",
              " (('definitely', 'good'), 39),\n",
              " (('go', 'sure'), 32),\n",
              " ('enjoy', 30),\n",
              " ('delicious', 131),\n",
              " ('first', 112),\n",
              " ('outside', 34),\n",
              " ('issue', 32),\n",
              " (('place', 'good'), 116),\n",
              " (('get', 'even'), 34),\n",
              " (('great', 'night'), 31),\n",
              " (('good', 'order'), 30),\n",
              " (('would', 'time'), 58),\n",
              " (('back', 'would'), 63),\n",
              " (('last', 'food'), 30),\n",
              " (('taste', 'like'), 30),\n",
              " ('price', 110),\n",
              " ('make', 115),\n",
              " ('told', 56),\n",
              " ('nice', 141),\n",
              " ('week', 33),\n",
              " (('go', 'good'), 79),\n",
              " (('place', 'great'), 88),\n",
              " (('wait', 'food'), 48),\n",
              " (('also', 'order'), 30),\n",
              " (('one', 'food'), 36),\n",
              " (('food', 'amazing'), 38),\n",
              " (('want', 'food'), 31),\n",
              " (('well', 'time'), 46),\n",
              " (('time', 'chicken'), 32),\n",
              " (('get', 'people'), 30),\n",
              " (('food', 'drink'), 47),\n",
              " (('like', 'think'), 35),\n",
              " (('great', 'ordered'), 39),\n",
              " (('place', 'thing'), 47),\n",
              " ('place', 320),\n",
              " ('back', 195),\n",
              " ('one', 204),\n",
              " ('want', 76),\n",
              " ('taste', 53),\n",
              " ('come', 125),\n",
              " ('ordered', 114),\n",
              " ('second', 34),\n",
              " ('beer', 50),\n",
              " ('problem', 36),\n",
              " ('see', 64),\n",
              " (('try', 'great'), 31),\n",
              " (('bit', 'good'), 35),\n",
              " (('way', 'time'), 34),\n",
              " (('go', 'dinner'), 31),\n",
              " (('one', 'year'), 30),\n",
              " (('pretty', 'food'), 40),\n",
              " (('new', 'time'), 40),\n",
              " (('like', 'drink'), 31),\n",
              " (('always', 'great'), 38),\n",
              " (('time', 'service'), 30),\n",
              " (('little', 'would'), 34),\n",
              " (('went', 'would'), 42),\n",
              " (('love', 'time'), 40),\n",
              " ('let', 53),\n",
              " ('really', 141),\n",
              " ('staff', 150),\n",
              " ('work', 66),\n",
              " ('like', 227),\n",
              " ('however', 44),\n",
              " ('seemed', 30),\n",
              " ('helpful', 43),\n",
              " ('feel', 56),\n",
              " ('bread', 33),\n",
              " ('water', 30),\n",
              " ('store', 42),\n",
              " ('trying', 31),\n",
              " (('good', 'price'), 44),\n",
              " (('little', 'food'), 57),\n",
              " (('place', 'also'), 50),\n",
              " (('delicious', 'great'), 38),\n",
              " (('great', 'time'), 98),\n",
              " (('try', 'service'), 31),\n",
              " (('place', 'get'), 38),\n",
              " (('place', 'well'), 35),\n",
              " (('friendly', 'like'), 35),\n",
              " (('pretty', 'good'), 46),\n",
              " (('good', 'sure'), 35),\n",
              " (('try', 'would'), 41),\n",
              " (('nice', 'go'), 39),\n",
              " ('great', 318),\n",
              " ('still', 66),\n",
              " ('highly', 37),\n",
              " (('got', 'first'), 32),\n",
              " (('back', 'best'), 30),\n",
              " (('one', 'go'), 58),\n",
              " (('get', 'restaurant'), 34),\n",
              " (('get', 'customer'), 30),\n",
              " (('would', 'great'), 38),\n",
              " ('always', 121),\n",
              " ('sweet', 44),\n",
              " ('huge', 37),\n",
              " ('area', 61),\n",
              " ('fry', 36),\n",
              " ('large', 42),\n",
              " ('needed', 44),\n",
              " (('place', 'time'), 76),\n",
              " (('back', 'time'), 76),\n",
              " (('delicious', 'one'), 30),\n",
              " (('one', 'order'), 35),\n",
              " (('food', 'get'), 51),\n",
              " (('get', 'experience'), 31),\n",
              " (('place', 'first'), 30),\n",
              " (('got', 'go'), 43),\n",
              " (('would', 'like'), 42),\n",
              " (('would', 'two'), 38),\n",
              " (('would', 'service'), 41),\n",
              " ('fun', 42),\n",
              " ('day', 104),\n",
              " ('happy', 52),\n",
              " ('well', 116),\n",
              " ('course', 31),\n",
              " ('better', 66),\n",
              " ('least', 37),\n",
              " ('fried', 37),\n",
              " ('review', 60),\n",
              " (('food', 'restaurant'), 46),\n",
              " (('know', 'great'), 33),\n",
              " (('food', 'good'), 122),\n",
              " (('place', 'love'), 53),\n",
              " (('food', 'service'), 70),\n",
              " (('friendly', 'time'), 43),\n",
              " (('go', 'come'), 33),\n",
              " (('first', 'go'), 39),\n",
              " (('little', 'go'), 36),\n",
              " (('great', 'service'), 36),\n",
              " (('nice', 'great'), 38),\n",
              " (('like', 'much'), 35),\n",
              " ('put', 34),\n",
              " ('perfectly', 32),\n",
              " ('away', 51),\n",
              " ('making', 34),\n",
              " ('think', 71),\n",
              " ('husband', 33),\n",
              " ('right', 71),\n",
              " (('food', 'great'), 82),\n",
              " (('went', 'time'), 36),\n",
              " (('place', 'back'), 47),\n",
              " (('place', 'come'), 55),\n",
              " (('back', 'ordered'), 42),\n",
              " (('menu', 'great'), 41),\n",
              " (('know', 'service'), 33),\n",
              " (('nice', 'good'), 61),\n",
              " ('spicy', 38),\n",
              " ('busy', 31),\n",
              " (('good', 'time'), 72),\n",
              " (('food', 'definitely'), 35),\n",
              " (('could', 'would'), 53),\n",
              " (('like', 'order'), 37),\n",
              " (('food', 'love'), 32),\n",
              " (('want', 'good'), 32),\n",
              " (('made', 'best'), 30),\n",
              " (('also', 'best'), 33),\n",
              " (('like', 'time'), 53),\n",
              " (('one', 'ever'), 30),\n",
              " (('place', 'would'), 88),\n",
              " ('new', 90),\n",
              " ('month', 31),\n",
              " ('way', 78),\n",
              " ('visit', 55),\n",
              " (('place', 'food'), 135),\n",
              " (('food', 'back'), 48),\n",
              " (('little', 'also'), 30),\n",
              " (('food', 'one'), 37),\n",
              " (('got', 'really'), 34),\n",
              " (('could', 'food'), 42),\n",
              " (('like', 'go'), 33),\n",
              " (('great', 'small'), 30),\n",
              " (('like', 'best'), 36),\n",
              " (('food', 'friend'), 30),\n",
              " (('great', 'drink'), 35),\n",
              " (('menu', 'ordered'), 33),\n",
              " (('went', 'also'), 35),\n",
              " (('food', 'come'), 47),\n",
              " (('one', 'experience'), 31),\n",
              " (('go', 'would'), 63),\n",
              " (('good', 'best'), 37),\n",
              " (('time', 'much'), 33),\n",
              " (('service', 'say'), 32),\n",
              " ('top', 46),\n",
              " ('dish', 53),\n",
              " ('found', 37),\n",
              " ('friend', 73),\n",
              " ('small', 72),\n",
              " (('definitely', 'time'), 41),\n",
              " (('little', 'really'), 31),\n",
              " (('delicious', 'like'), 33),\n",
              " (('food', 'go'), 73),\n",
              " (('food', 'best'), 36),\n",
              " (('know', 'time'), 39),\n",
              " (('bit', 'like'), 30),\n",
              " (('get', 'sure'), 33),\n",
              " (('first', 'would'), 35),\n",
              " (('though', 'time'), 31),\n",
              " (('time', 'two'), 32),\n",
              " ('good', 301),\n",
              " ('came', 95),\n",
              " ('pay', 41),\n",
              " ('check', 43),\n",
              " ('excellent', 58),\n",
              " ('kid', 30),\n",
              " ('charge', 30),\n",
              " (('friendly', 'good'), 48),\n",
              " (('food', 'order'), 34),\n",
              " (('one', 'also'), 53),\n",
              " (('meal', 'good'), 33),\n",
              " (('better', 'place'), 30),\n",
              " (('get', 'come'), 39),\n",
              " (('try', 'like'), 41),\n",
              " (('always', 'service'), 43),\n",
              " (('one', 'get'), 35),\n",
              " (('one', 'day'), 37),\n",
              " (('make', 'best'), 30),\n",
              " (('friendly', 'would'), 35),\n",
              " ('food', 336),\n",
              " ('cheese', 68),\n",
              " ('experience', 99),\n",
              " ('lot', 71),\n",
              " (('go', 'time'), 59),\n",
              " (('get', 'like'), 67),\n",
              " (('get', 'would'), 72),\n",
              " (('make', 'also'), 35),\n",
              " (('service', 'great'), 78),\n",
              " (('could', 'got'), 34),\n",
              " (('get', 'service'), 70),\n",
              " (('best', 'time'), 34),\n",
              " (('place', 'go'), 80),\n",
              " (('back', 'go'), 70),\n",
              " (('another', 'good'), 31),\n",
              " (('like', 'food'), 41),\n",
              " (('one', 'best'), 52),\n",
              " (('good', 'menu'), 30),\n",
              " ('friendly', 134),\n",
              " ('beef', 34),\n",
              " ('try', 116),\n",
              " ('take', 89),\n",
              " ('house', 36),\n",
              " ('home', 52),\n",
              " ('pretty', 80),\n",
              " ('worth', 59),\n",
              " (('get', 'great'), 68),\n",
              " (('could', 'time'), 40),\n",
              " (('one', 'people'), 35),\n",
              " (('well', 'great'), 36),\n",
              " (('staff', 'would'), 39),\n",
              " (('time', 'place'), 30),\n",
              " (('eat', 'food'), 39),\n",
              " ('another', 82),\n",
              " ('inside', 45),\n",
              " ('plate', 37),\n",
              " ('chicken', 83),\n",
              " ('made', 122),\n",
              " ('cool', 31),\n",
              " ('going', 80),\n",
              " ('finally', 31),\n",
              " (('back', 'definitely'), 38),\n",
              " (('got', 'one'), 53),\n",
              " (('love', 'great'), 38),\n",
              " (('try', 'time'), 31),\n",
              " (('place', 'definitely'), 36),\n",
              " ('job', 44),\n",
              " ('best', 149),\n",
              " ('give', 77),\n",
              " ('hot', 50),\n",
              " ('must', 43),\n",
              " ('used', 44),\n",
              " ('business', 37),\n",
              " (('place', 'amazing'), 43),\n",
              " (('make', 'would'), 37),\n",
              " (('one', 'place'), 35),\n",
              " (('little', 'time'), 43),\n",
              " (('make', 'good'), 38),\n",
              " (('try', 'go'), 33),\n",
              " (('great', 'experience'), 45),\n",
              " (('get', 'made'), 37),\n",
              " (('first', 'time'), 53),\n",
              " (('back', 'come'), 51),\n",
              " (('one', 'ordered'), 39),\n",
              " (('place', 'one'), 49),\n",
              " (('always', 'go'), 35),\n",
              " (('one', 'back'), 36),\n",
              " (('nice', 'would'), 43),\n",
              " ('coming', 51),\n",
              " ('flavor', 61),\n",
              " ('clean', 61),\n",
              " ('part', 38),\n",
              " ('hour', 66),\n",
              " ('steak', 35),\n",
              " ('hard', 32),\n",
              " ('went', 120),\n",
              " ('bad', 65),\n",
              " ('party', 30),\n",
              " (('one', 'came'), 31),\n",
              " (('could', 'good'), 47),\n",
              " (('good', 'server'), 30),\n",
              " (('really', 'time'), 30),\n",
              " (('place', 'two'), 33),\n",
              " (('try', 'also'), 32),\n",
              " (('got', 'great'), 33),\n",
              " (('come', 'good'), 50),\n",
              " (('wait', 'good'), 36),\n",
              " ('help', 30),\n",
              " ('decided', 38),\n",
              " ('never', 107),\n",
              " ('though', 60),\n",
              " (('got', 'like'), 54),\n",
              " (('got', 'good'), 65),\n",
              " (('got', 'service'), 51),\n",
              " (('made', 'time'), 50),\n",
              " (('also', 'time'), 35),\n",
              " (('food', 'ordered'), 31),\n",
              " (('back', 'great'), 67),\n",
              " (('go', 'like'), 36),\n",
              " (('staff', 'go'), 31),\n",
              " ('u', 114),\n",
              " ('amazing', 100),\n",
              " ('enough', 50),\n",
              " ('offer', 35),\n",
              " ('minute', 53),\n",
              " ('appetizer', 34),\n",
              " ('drink', 92),\n",
              " (('place', 'always'), 36),\n",
              " (('friendly', 'great'), 50),\n",
              " (('little', 'good'), 61),\n",
              " (('great', 'even'), 42),\n",
              " (('got', 'also'), 36),\n",
              " (('first', 'good'), 40),\n",
              " (('place', 'tried'), 31),\n",
              " (('place', 'try'), 35),\n",
              " (('make', 'time'), 43),\n",
              " (('first', 'like'), 39),\n",
              " (('get', 'never'), 34),\n",
              " (('time', 'good'), 33),\n",
              " (('would', 'drink'), 30),\n",
              " (('first', 'service'), 35),\n",
              " ('shop', 41),\n",
              " ('perfect', 60),\n",
              " ('service', 257),\n",
              " ('far', 45),\n",
              " (('friendly', 'staff'), 46),\n",
              " (('little', 'great'), 55),\n",
              " (('delicious', 'food'), 53),\n",
              " (('food', 'sauce'), 35),\n",
              " (('try', 'good'), 44),\n",
              " (('time', 'experience'), 37),\n",
              " (('menu', 'time'), 38),\n",
              " (('friendly', 'service'), 44),\n",
              " (('back', 'get'), 50),\n",
              " (('back', 'well'), 32),\n",
              " (('get', 'one'), 31),\n",
              " (('get', 'u'), 31),\n",
              " (('always', 'good'), 38),\n",
              " (('time', 'food'), 36),\n",
              " (('fresh', 'time'), 35),\n",
              " ('every', 75),\n",
              " ('cooked', 42),\n",
              " ('selection', 52),\n",
              " ('menu', 104),\n",
              " ('fresh', 75),\n",
              " ('someone', 36),\n",
              " ('left', 52),\n",
              " (('good', 'great'), 71),\n",
              " (('could', 'even'), 33),\n",
              " (('another', 'like'), 33),\n",
              " (('get', 'good'), 76),\n",
              " (('got', 'time'), 58),\n",
              " (('place', 'got'), 37),\n",
              " (('one', 'give'), 30),\n",
              " ('person', 36),\n",
              " ('loved', 31),\n",
              " ('ask', 32),\n",
              " ('quite', 34),\n",
              " (('really', 'like'), 52),\n",
              " (('place', 'delicious'), 39),\n",
              " (('place', 'order'), 31),\n",
              " (('food', 'well'), 32),\n",
              " (('good', 'restaurant'), 34),\n",
              " (('back', 'people'), 32),\n",
              " (('wait', 'time'), 38),\n",
              " (('time', 'drink'), 33),\n",
              " (('come', 'time'), 33),\n",
              " (('favorite', 'good'), 33),\n",
              " (('one', 'time'), 77),\n",
              " (('little', 'back'), 33),\n",
              " (('back', 'order'), 32),\n",
              " (('time', 'ordered'), 41),\n",
              " (('something', 'like'), 31),\n",
              " (('service', 'restaurant'), 34),\n",
              " (('service', 'customer'), 30),\n",
              " ('next', 82),\n",
              " ('dinner', 74),\n",
              " ('front', 36),\n",
              " ('dessert', 36),\n",
              " ('town', 31),\n",
              " (('like', 'day'), 34),\n",
              " (('one', 'definitely'), 30),\n",
              " (('like', 'also'), 65),\n",
              " (('cheese', 'good'), 35),\n",
              " (('place', 'make'), 38),\n",
              " (('good', 'chicken'), 30),\n",
              " (('delicious', 'best'), 30),\n",
              " (('awesome', 'great'), 30),\n",
              " (('like', 'going'), 37),\n",
              " (('great', 'restaurant'), 51),\n",
              " (('time', 'think'), 39),\n",
              " (('thing', 'good'), 51),\n",
              " (('fresh', 'good'), 32),\n",
              " (('place', 'sure'), 31),\n",
              " ('owner', 42),\n",
              " ('say', 87),\n",
              " ('spot', 58),\n",
              " ('decent', 31),\n",
              " ('probably', 41),\n",
              " ('super', 66),\n",
              " (('one', 'u'), 32),\n",
              " (('cheese', 'food'), 31),\n",
              " (('one', 'come'), 40),\n",
              " (('get', 'also'), 58),\n",
              " (('could', 'one'), 41),\n",
              " (('thing', 'food'), 47),\n",
              " (('definitely', 'would'), 34),\n",
              " (('time', 'people'), 38),\n",
              " ('atmosphere', 64),\n",
              " ('time', 288),\n",
              " ('little', 109),\n",
              " ('order', 112),\n",
              " ('special', 51),\n",
              " ('usually', 32),\n",
              " ('star', 60),\n",
              " (('one', 'really'), 41),\n",
              " (('one', 'like'), 71),\n",
              " (('highly', 'recommend'), 33),\n",
              " (('good', 'sauce'), 32),\n",
              " (('could', 'service'), 50),\n",
              " (('get', 'best'), 37),\n",
              " (('time', 'said'), 31),\n",
              " (('go', 'great'), 44),\n",
              " (('back', 'like'), 68),\n",
              " (('u', 'service'), 34),\n",
              " (('one', 'would'), 67),\n",
              " (('come', 'would'), 35),\n",
              " (('back', 'service'), 56),\n",
              " ('took', 71),\n",
              " ('know', 90),\n",
              " ('night', 70),\n",
              " ('recommend', 105),\n",
              " ('love', 126),\n",
              " ('awesome', 63),\n",
              " ('attentive', 34),\n",
              " ('looking', 55),\n",
              " ('ice', 31),\n",
              " ('started', 37),\n",
              " (('food', 'u'), 30),\n",
              " (('go', 'service'), 35),\n",
              " (('get', 'time'), 82),\n",
              " (('service', 'even'), 36),\n",
              " (('ever', 'best'), 35),\n",
              " (('one', 'great'), 38),\n",
              " (('time', 'going'), 39),\n",
              " (('little', 'get'), 35),\n",
              " ('lunch', 61),\n",
              " ('big', 49),\n",
              " ('everyone', 41),\n",
              " ('option', 64),\n",
              " (('price', 'time'), 34),\n",
              " (('took', 'time'), 35),\n",
              " (('place', 'friendly'), 37),\n",
              " (('little', 'like'), 43),\n",
              " (('delicious', 'good'), 48),\n",
              " (('delicious', 'service'), 38),\n",
              " (('great', 'best'), 48),\n",
              " (('went', 'good'), 50),\n",
              " (('recommend', 'time'), 30),\n",
              " (('went', 'like'), 44),\n",
              " (('really', 'place'), 30),\n",
              " (('good', 'drink'), 32),\n",
              " (('time', 'like'), 38),\n",
              " (('little', 'service'), 31),\n",
              " (('get', 'price'), 35),\n",
              " (('time', 'would'), 33),\n",
              " (('thing', 'go'), 31)]"
            ]
          },
          "metadata": {},
          "execution_count": 138
        }
      ],
      "id": "DgPds8lfQ4Wc"
    },
    {
      "cell_type": "code",
      "source": [
        "len(freq_itemsets_yelp.collect())"
      ],
      "metadata": {
        "colab": {
          "base_uri": "https://localhost:8080/"
        },
        "id": "agCMzwtqQ9WO",
        "outputId": "37a893ba-7e62-4bdd-ad74-9bbeb5295b2f"
      },
      "id": "agCMzwtqQ9WO",
      "execution_count": null,
      "outputs": [
        {
          "output_type": "execute_result",
          "data": {
            "text/plain": [
              "716"
            ]
          },
          "metadata": {},
          "execution_count": 139
        }
      ]
    },
    {
      "cell_type": "markdown",
      "source": [
        "Threshold 0.05"
      ],
      "metadata": {
        "id": "Ilj42EQcJ4oH"
      },
      "id": "Ilj42EQcJ4oH"
    },
    {
      "cell_type": "code",
      "source": [
        "threshold = 0.05"
      ],
      "metadata": {
        "id": "bc5BcuTaJ694"
      },
      "id": "bc5BcuTaJ694",
      "execution_count": null,
      "outputs": []
    },
    {
      "cell_type": "code",
      "source": [
        "support_threshold = int(threshold*count_baskets)\n",
        "support_threshold"
      ],
      "metadata": {
        "colab": {
          "base_uri": "https://localhost:8080/"
        },
        "id": "BG9HgoBuJ7Ad",
        "outputId": "aae7ba93-df00-48cf-f116-df18ba100f65"
      },
      "id": "BG9HgoBuJ7Ad",
      "execution_count": null,
      "outputs": [
        {
          "output_type": "execute_result",
          "data": {
            "text/plain": [
              "50"
            ]
          },
          "metadata": {},
          "execution_count": 123
        }
      ]
    },
    {
      "cell_type": "code",
      "source": [
        "freq_itemsets_yelp = apriori(data_rdd, support_threshold)"
      ],
      "metadata": {
        "colab": {
          "base_uri": "https://localhost:8080/"
        },
        "id": "Jf3QfCQrJ7DB",
        "outputId": "b33eb81b-a1ee-47d7-c05d-82dd72e8bddc"
      },
      "id": "Jf3QfCQrJ7DB",
      "execution_count": null,
      "outputs": [
        {
          "output_type": "stream",
          "name": "stdout",
          "text": [
            "Computing 2-broadcast items\n",
            "Computing the 2-itemsets\n",
            "Computing 3-broadcast items\n",
            "Computing the 3-itemsets\n",
            "Time of execution of the algorithm:  163.11374759674072\n"
          ]
        }
      ]
    },
    {
      "cell_type": "code",
      "source": [
        "freq_itemsets_yelp.collect()"
      ],
      "metadata": {
        "colab": {
          "base_uri": "https://localhost:8080/"
        },
        "id": "kyJcEm8tKBpe",
        "outputId": "a5a75145-74d3-4b19-f1ce-98b93c42667c"
      },
      "id": "kyJcEm8tKBpe",
      "execution_count": null,
      "outputs": [
        {
          "output_type": "execute_result",
          "data": {
            "text/plain": [
              "[('sandwich', 50),\n",
              " ('everything', 91),\n",
              " ('would', 216),\n",
              " ('two', 75),\n",
              " ('restaurant', 129),\n",
              " ('something', 60),\n",
              " ('bar', 70),\n",
              " (('food', 'time'), 85),\n",
              " ('wanted', 58),\n",
              " ('side', 66),\n",
              " (('also', 'service'), 56),\n",
              " (('service', 'food'), 52),\n",
              " ('tried', 63),\n",
              " ('around', 71),\n",
              " (('like', 'service'), 65),\n",
              " (('also', 'great'), 53),\n",
              " (('would', 'good'), 72),\n",
              " ('since', 67),\n",
              " ('get', 210),\n",
              " ('also', 172),\n",
              " (('food', 'would'), 78),\n",
              " (('food', 'staff'), 50),\n",
              " ('even', 132),\n",
              " ('got', 142),\n",
              " ('pizza', 53),\n",
              " ('different', 58),\n",
              " ('last', 65),\n",
              " (('great', 'food'), 50),\n",
              " ('table', 72),\n",
              " ('sauce', 69),\n",
              " ('bit', 64),\n",
              " ('server', 70),\n",
              " ('people', 98),\n",
              " (('place', 'staff'), 64),\n",
              " (('one', 'good'), 81),\n",
              " (('place', 'like'), 66),\n",
              " (('place', 'service'), 60),\n",
              " (('get', 'go'), 62),\n",
              " (('service', 'time'), 54),\n",
              " (('back', 'good'), 79),\n",
              " (('food', 'nice'), 54),\n",
              " (('one', 'service'), 68),\n",
              " ('definitely', 114),\n",
              " ('sure', 84),\n",
              " ('could', 130),\n",
              " ('wait', 88),\n",
              " ('find', 58),\n",
              " (('friendly', 'food'), 50),\n",
              " ('favorite', 72),\n",
              " ('salad', 57),\n",
              " ('ever', 79),\n",
              " ('ca', 67),\n",
              " ('customer', 73),\n",
              " ('many', 60),\n",
              " ('thing', 99),\n",
              " ('need', 59),\n",
              " ('said', 71),\n",
              " ('meal', 63),\n",
              " ('look', 58),\n",
              " ('year', 72),\n",
              " (('really', 'good'), 69),\n",
              " (('good', 'service'), 67),\n",
              " (('like', 'good'), 56),\n",
              " ('done', 56),\n",
              " ('much', 99),\n",
              " ('asked', 57),\n",
              " ('eat', 60),\n",
              " ('location', 64),\n",
              " (('place', 'nice'), 53),\n",
              " ('go', 215),\n",
              " ('long', 70),\n",
              " (('recommend', 'would'), 52),\n",
              " ('delicious', 131),\n",
              " ('first', 112),\n",
              " (('place', 'good'), 116),\n",
              " (('would', 'time'), 58),\n",
              " (('back', 'would'), 63),\n",
              " ('price', 110),\n",
              " ('make', 115),\n",
              " ('told', 56),\n",
              " ('nice', 141),\n",
              " (('go', 'good'), 79),\n",
              " (('place', 'great'), 88),\n",
              " ('place', 320),\n",
              " ('back', 195),\n",
              " ('one', 204),\n",
              " ('want', 76),\n",
              " ('taste', 53),\n",
              " ('come', 125),\n",
              " ('ordered', 114),\n",
              " ('beer', 50),\n",
              " ('see', 64),\n",
              " ('let', 53),\n",
              " ('really', 141),\n",
              " ('staff', 150),\n",
              " ('work', 66),\n",
              " ('like', 227),\n",
              " ('feel', 56),\n",
              " (('little', 'food'), 57),\n",
              " (('place', 'also'), 50),\n",
              " (('great', 'time'), 98),\n",
              " ('great', 318),\n",
              " ('still', 66),\n",
              " (('one', 'go'), 58),\n",
              " ('always', 121),\n",
              " ('area', 61),\n",
              " (('place', 'time'), 76),\n",
              " (('back', 'time'), 76),\n",
              " (('food', 'get'), 51),\n",
              " ('day', 104),\n",
              " ('happy', 52),\n",
              " ('well', 116),\n",
              " ('better', 66),\n",
              " ('review', 60),\n",
              " (('food', 'good'), 122),\n",
              " (('place', 'love'), 53),\n",
              " (('food', 'service'), 70),\n",
              " ('away', 51),\n",
              " ('think', 71),\n",
              " ('right', 71),\n",
              " (('food', 'great'), 82),\n",
              " (('place', 'come'), 55),\n",
              " (('nice', 'good'), 61),\n",
              " (('good', 'time'), 72),\n",
              " (('could', 'would'), 53),\n",
              " (('like', 'time'), 53),\n",
              " (('place', 'would'), 88),\n",
              " ('new', 90),\n",
              " ('way', 78),\n",
              " ('visit', 55),\n",
              " (('place', 'food'), 135),\n",
              " (('go', 'would'), 63),\n",
              " ('dish', 53),\n",
              " ('friend', 73),\n",
              " ('small', 72),\n",
              " (('food', 'go'), 73),\n",
              " ('good', 301),\n",
              " ('came', 95),\n",
              " ('excellent', 58),\n",
              " (('one', 'also'), 53),\n",
              " ('food', 336),\n",
              " ('cheese', 68),\n",
              " ('experience', 99),\n",
              " ('lot', 71),\n",
              " (('go', 'time'), 59),\n",
              " (('get', 'like'), 67),\n",
              " (('get', 'would'), 72),\n",
              " (('service', 'great'), 78),\n",
              " (('get', 'service'), 70),\n",
              " (('place', 'go'), 80),\n",
              " (('back', 'go'), 70),\n",
              " (('one', 'best'), 52),\n",
              " ('friendly', 134),\n",
              " ('try', 116),\n",
              " ('take', 89),\n",
              " ('home', 52),\n",
              " ('pretty', 80),\n",
              " ('worth', 59),\n",
              " (('get', 'great'), 68),\n",
              " ('another', 82),\n",
              " ('chicken', 83),\n",
              " ('made', 122),\n",
              " ('going', 80),\n",
              " (('got', 'one'), 53),\n",
              " ('best', 149),\n",
              " ('give', 77),\n",
              " ('hot', 50),\n",
              " (('first', 'time'), 53),\n",
              " (('back', 'come'), 51),\n",
              " ('coming', 51),\n",
              " ('flavor', 61),\n",
              " ('clean', 61),\n",
              " ('hour', 66),\n",
              " ('went', 120),\n",
              " ('bad', 65),\n",
              " (('come', 'good'), 50),\n",
              " ('never', 107),\n",
              " ('though', 60),\n",
              " (('got', 'like'), 54),\n",
              " (('got', 'good'), 65),\n",
              " (('got', 'service'), 51),\n",
              " (('made', 'time'), 50),\n",
              " (('back', 'great'), 67),\n",
              " ('u', 114),\n",
              " ('amazing', 100),\n",
              " ('enough', 50),\n",
              " ('minute', 53),\n",
              " ('drink', 92),\n",
              " (('friendly', 'great'), 50),\n",
              " (('little', 'good'), 61),\n",
              " ('perfect', 60),\n",
              " ('service', 257),\n",
              " (('little', 'great'), 55),\n",
              " (('delicious', 'food'), 53),\n",
              " (('back', 'get'), 50),\n",
              " ('every', 75),\n",
              " ('selection', 52),\n",
              " ('menu', 104),\n",
              " ('fresh', 75),\n",
              " ('left', 52),\n",
              " (('good', 'great'), 71),\n",
              " (('get', 'good'), 76),\n",
              " (('got', 'time'), 58),\n",
              " (('really', 'like'), 52),\n",
              " (('one', 'time'), 77),\n",
              " ('next', 82),\n",
              " ('dinner', 74),\n",
              " (('like', 'also'), 65),\n",
              " (('great', 'restaurant'), 51),\n",
              " (('thing', 'good'), 51),\n",
              " ('say', 87),\n",
              " ('spot', 58),\n",
              " ('super', 66),\n",
              " (('get', 'also'), 58),\n",
              " ('atmosphere', 64),\n",
              " ('time', 288),\n",
              " ('little', 109),\n",
              " ('order', 112),\n",
              " ('special', 51),\n",
              " ('star', 60),\n",
              " (('one', 'like'), 71),\n",
              " (('could', 'service'), 50),\n",
              " (('back', 'like'), 68),\n",
              " (('one', 'would'), 67),\n",
              " (('back', 'service'), 56),\n",
              " ('took', 71),\n",
              " ('know', 90),\n",
              " ('night', 70),\n",
              " ('recommend', 105),\n",
              " ('love', 126),\n",
              " ('awesome', 63),\n",
              " ('looking', 55),\n",
              " (('get', 'time'), 82),\n",
              " ('lunch', 61),\n",
              " ('option', 64),\n",
              " (('went', 'good'), 50)]"
            ]
          },
          "metadata": {},
          "execution_count": 125
        }
      ]
    },
    {
      "cell_type": "code",
      "source": [
        "len(freq_itemsets_yelp.collect())"
      ],
      "metadata": {
        "colab": {
          "base_uri": "https://localhost:8080/"
        },
        "id": "mkoXcNB8KBry",
        "outputId": "3d24ff49-0535-4585-8e23-c7de0962b2a0"
      },
      "id": "mkoXcNB8KBry",
      "execution_count": null,
      "outputs": [
        {
          "output_type": "execute_result",
          "data": {
            "text/plain": [
              "236"
            ]
          },
          "metadata": {},
          "execution_count": 126
        }
      ]
    },
    {
      "cell_type": "markdown",
      "source": [
        "Threshold 0.07"
      ],
      "metadata": {
        "id": "2U8TbwYjJfzs"
      },
      "id": "2U8TbwYjJfzs"
    },
    {
      "cell_type": "code",
      "execution_count": null,
      "metadata": {
        "id": "AvsCGl3umIeX"
      },
      "outputs": [],
      "source": [
        "threshold = 0.07"
      ],
      "id": "AvsCGl3umIeX"
    },
    {
      "cell_type": "code",
      "source": [
        "support_threshold = int(threshold*count_baskets)\n",
        "support_threshold"
      ],
      "metadata": {
        "colab": {
          "base_uri": "https://localhost:8080/"
        },
        "id": "cehQIYAeJp1o",
        "outputId": "8451ab2d-a444-497a-caaf-db893029f2c2"
      },
      "execution_count": null,
      "outputs": [
        {
          "output_type": "execute_result",
          "data": {
            "text/plain": [
              "70"
            ]
          },
          "metadata": {},
          "execution_count": 130
        }
      ],
      "id": "cehQIYAeJp1o"
    },
    {
      "cell_type": "code",
      "source": [
        "freq_itemsets_yelp = apriori(data_rdd, support_threshold)"
      ],
      "metadata": {
        "id": "WdyhO91yKPXg",
        "colab": {
          "base_uri": "https://localhost:8080/"
        },
        "outputId": "c30c9eb2-1f5a-477d-9744-d97957344e9f"
      },
      "execution_count": null,
      "outputs": [
        {
          "output_type": "stream",
          "name": "stdout",
          "text": [
            "Computing 2-broadcast items\n",
            "Computing the 2-itemsets\n",
            "Computing 3-broadcast items\n",
            "Computing the 3-itemsets\n",
            "Time of execution of the algorithm:  100.03914141654968\n"
          ]
        }
      ],
      "id": "WdyhO91yKPXg"
    },
    {
      "cell_type": "code",
      "source": [
        "freq_itemsets_yelp.collect()"
      ],
      "metadata": {
        "id": "e8cZDp8JKPaC",
        "colab": {
          "base_uri": "https://localhost:8080/"
        },
        "outputId": "21823e4e-6f33-4bdf-9690-8c110faea3e4"
      },
      "execution_count": null,
      "outputs": [
        {
          "output_type": "execute_result",
          "data": {
            "text/plain": [
              "[('everything', 91),\n",
              " ('would', 216),\n",
              " ('two', 75),\n",
              " ('restaurant', 129),\n",
              " ('bar', 70),\n",
              " (('food', 'time'), 85),\n",
              " ('around', 71),\n",
              " (('would', 'good'), 72),\n",
              " ('get', 210),\n",
              " ('also', 172),\n",
              " (('food', 'would'), 78),\n",
              " ('even', 132),\n",
              " ('got', 142),\n",
              " ('table', 72),\n",
              " ('server', 70),\n",
              " ('people', 98),\n",
              " (('one', 'good'), 81),\n",
              " (('back', 'good'), 79),\n",
              " ('definitely', 114),\n",
              " ('sure', 84),\n",
              " ('could', 130),\n",
              " ('wait', 88),\n",
              " ('favorite', 72),\n",
              " ('ever', 79),\n",
              " ('customer', 73),\n",
              " ('thing', 99),\n",
              " ('said', 71),\n",
              " ('year', 72),\n",
              " ('much', 99),\n",
              " ('go', 215),\n",
              " ('long', 70),\n",
              " ('delicious', 131),\n",
              " ('first', 112),\n",
              " (('place', 'good'), 116),\n",
              " ('price', 110),\n",
              " ('make', 115),\n",
              " ('nice', 141),\n",
              " (('go', 'good'), 79),\n",
              " (('place', 'great'), 88),\n",
              " ('place', 320),\n",
              " ('back', 195),\n",
              " ('one', 204),\n",
              " ('want', 76),\n",
              " ('come', 125),\n",
              " ('ordered', 114),\n",
              " ('really', 141),\n",
              " ('staff', 150),\n",
              " ('like', 227),\n",
              " (('great', 'time'), 98),\n",
              " ('great', 318),\n",
              " ('always', 121),\n",
              " (('place', 'time'), 76),\n",
              " (('back', 'time'), 76),\n",
              " ('day', 104),\n",
              " ('well', 116),\n",
              " (('food', 'good'), 122),\n",
              " (('food', 'service'), 70),\n",
              " ('think', 71),\n",
              " ('right', 71),\n",
              " (('food', 'great'), 82),\n",
              " (('good', 'time'), 72),\n",
              " (('place', 'would'), 88),\n",
              " ('new', 90),\n",
              " ('way', 78),\n",
              " (('place', 'food'), 135),\n",
              " ('friend', 73),\n",
              " ('small', 72),\n",
              " (('food', 'go'), 73),\n",
              " ('good', 301),\n",
              " ('came', 95),\n",
              " ('food', 336),\n",
              " ('experience', 99),\n",
              " ('lot', 71),\n",
              " (('get', 'would'), 72),\n",
              " (('service', 'great'), 78),\n",
              " (('get', 'service'), 70),\n",
              " (('place', 'go'), 80),\n",
              " (('back', 'go'), 70),\n",
              " ('friendly', 134),\n",
              " ('try', 116),\n",
              " ('take', 89),\n",
              " ('pretty', 80),\n",
              " ('another', 82),\n",
              " ('chicken', 83),\n",
              " ('made', 122),\n",
              " ('going', 80),\n",
              " ('best', 149),\n",
              " ('give', 77),\n",
              " ('went', 120),\n",
              " ('never', 107),\n",
              " ('u', 114),\n",
              " ('amazing', 100),\n",
              " ('drink', 92),\n",
              " ('service', 257),\n",
              " ('every', 75),\n",
              " ('menu', 104),\n",
              " ('fresh', 75),\n",
              " (('good', 'great'), 71),\n",
              " (('get', 'good'), 76),\n",
              " (('one', 'time'), 77),\n",
              " ('next', 82),\n",
              " ('dinner', 74),\n",
              " ('say', 87),\n",
              " ('time', 288),\n",
              " ('little', 109),\n",
              " ('order', 112),\n",
              " (('one', 'like'), 71),\n",
              " ('took', 71),\n",
              " ('know', 90),\n",
              " ('night', 70),\n",
              " ('recommend', 105),\n",
              " ('love', 126),\n",
              " (('get', 'time'), 82)]"
            ]
          },
          "metadata": {},
          "execution_count": 132
        }
      ],
      "id": "e8cZDp8JKPaC"
    },
    {
      "cell_type": "code",
      "source": [
        "len(freq_itemsets_yelp.collect())"
      ],
      "metadata": {
        "id": "-sptqBEKKa1q",
        "colab": {
          "base_uri": "https://localhost:8080/"
        },
        "outputId": "2b07fd82-fc01-4356-8765-cd6efbd006d1"
      },
      "execution_count": null,
      "outputs": [
        {
          "output_type": "execute_result",
          "data": {
            "text/plain": [
              "113"
            ]
          },
          "metadata": {},
          "execution_count": 133
        }
      ],
      "id": "-sptqBEKKa1q"
    },
    {
      "cell_type": "markdown",
      "source": [
        "Results of the experiments with a sample of the dataset"
      ],
      "metadata": {
        "id": "1Tp-RXLcUJ5L"
      },
      "id": "1Tp-RXLcUJ5L"
    },
    {
      "cell_type": "code",
      "source": [
        "results = [\n",
        "    Row(threshold=0.03, computationTime= '604s', itemsets=716),\n",
        "    Row(threshold=0.05, computationTime= '163s', itemsets=236),\n",
        "    Row(threshold=0.07, computationTime= '100s', itemsets=113),\n",
        "]\n",
        "\n",
        "data_results = spark.createDataFrame(results)\n",
        "\n",
        "data_results.show()"
      ],
      "metadata": {
        "colab": {
          "base_uri": "https://localhost:8080/"
        },
        "id": "cZJpHZxPUKCU",
        "outputId": "7b21871e-59de-4872-bf35-64f653142935"
      },
      "id": "cZJpHZxPUKCU",
      "execution_count": null,
      "outputs": [
        {
          "output_type": "stream",
          "name": "stdout",
          "text": [
            "+---------+---------------+--------+\n",
            "|threshold|computationTime|itemsets|\n",
            "+---------+---------------+--------+\n",
            "|     0.03|           604s|     716|\n",
            "|     0.05|           163s|     236|\n",
            "|     0.07|           100s|     113|\n",
            "+---------+---------------+--------+\n",
            "\n"
          ]
        }
      ]
    },
    {
      "cell_type": "markdown",
      "source": [
        "##FPGrowth Algorithm"
      ],
      "metadata": {
        "id": "mUbauLkoPqfr"
      },
      "id": "mUbauLkoPqfr"
    },
    {
      "cell_type": "markdown",
      "source": [
        "The FPGrowth model is a machine learning model made available by pySpark to compute frequent itemsets in large datasets"
      ],
      "metadata": {
        "id": "tV3PF6u0TMfA"
      },
      "id": "tV3PF6u0TMfA"
    },
    {
      "cell_type": "code",
      "source": [
        "from pyspark.mllib.fpm import FPGrowth\n",
        "\n",
        "start_time = time.time()\n",
        "\n",
        "model = FPGrowth.train(data_rdd, minSupport=0.1)\n",
        "\n",
        "end_time = time.time()\n",
        "print(\"Time of execution of the algorithm: \", end_time - start_time)"
      ],
      "metadata": {
        "colab": {
          "base_uri": "https://localhost:8080/"
        },
        "id": "134orAeAPqyK",
        "outputId": "b9e48770-ed2d-4d96-ea62-fed30c470a97"
      },
      "id": "134orAeAPqyK",
      "execution_count": 29,
      "outputs": [
        {
          "output_type": "stream",
          "name": "stdout",
          "text": [
            "Time of execution of the algorithm:  1.3905205726623535\n"
          ]
        }
      ]
    },
    {
      "cell_type": "code",
      "source": [
        "itemsets = model.freqItemsets().collect()"
      ],
      "metadata": {
        "id": "fr5pA9MuP2IT"
      },
      "id": "fr5pA9MuP2IT",
      "execution_count": 30,
      "outputs": []
    },
    {
      "cell_type": "code",
      "source": [
        "for itemset in itemsets:\n",
        "  print(itemset.items, itemset.freq)"
      ],
      "metadata": {
        "colab": {
          "base_uri": "https://localhost:8080/"
        },
        "id": "GqFQ7pYvRmwC",
        "outputId": "eca63cc0-2a03-488e-9507-1dabc0cfc2fd"
      },
      "id": "GqFQ7pYvRmwC",
      "execution_count": 31,
      "outputs": [
        {
          "output_type": "stream",
          "name": "stdout",
          "text": [
            "['menu'] 104\n",
            "['food'] 336\n",
            "['day'] 104\n",
            "['place'] 320\n",
            "['place', 'food'] 135\n",
            "['great'] 318\n",
            "['great', 'place'] 117\n",
            "['great', 'food'] 132\n",
            "['amazing'] 100\n",
            "['much'] 99\n",
            "['good'] 301\n",
            "['good', 'great'] 98\n",
            "['good', 'place'] 116\n",
            "['good', 'food'] 142\n",
            "['experience'] 99\n",
            "['time'] 288\n",
            "['time', 'great'] 100\n",
            "['time', 'place'] 106\n",
            "['time', 'good'] 105\n",
            "['time', 'food'] 121\n",
            "['service'] 257\n",
            "['service', 'great'] 114\n",
            "['service', 'food'] 122\n",
            "['thing'] 99\n",
            "['people'] 98\n",
            "['like'] 227\n",
            "['like', 'place'] 101\n",
            "['would'] 216\n",
            "['go'] 215\n",
            "['get'] 210\n",
            "['one'] 204\n",
            "['back'] 195\n",
            "['also'] 172\n",
            "['staff'] 150\n",
            "['best'] 149\n",
            "['got'] 142\n",
            "['really'] 141\n",
            "['nice'] 141\n",
            "['friendly'] 134\n",
            "['even'] 132\n",
            "['delicious'] 131\n",
            "['could'] 130\n",
            "['restaurant'] 129\n",
            "['love'] 126\n",
            "['come'] 125\n",
            "['made'] 122\n",
            "['always'] 121\n",
            "['went'] 120\n",
            "['well'] 116\n",
            "['try'] 116\n",
            "['make'] 115\n",
            "['definitely'] 114\n",
            "['u'] 114\n",
            "['ordered'] 114\n",
            "['order'] 112\n",
            "['first'] 112\n",
            "['price'] 110\n",
            "['little'] 109\n",
            "['never'] 107\n",
            "['recommend'] 105\n"
          ]
        }
      ]
    },
    {
      "cell_type": "code",
      "source": [
        "len(itemsets)"
      ],
      "metadata": {
        "colab": {
          "base_uri": "https://localhost:8080/"
        },
        "id": "KVr6hmz-SuTm",
        "outputId": "64e0d2e0-e11b-4c44-a598-96deee3bf008"
      },
      "id": "KVr6hmz-SuTm",
      "execution_count": 32,
      "outputs": [
        {
          "output_type": "execute_result",
          "data": {
            "text/plain": [
              "60"
            ]
          },
          "metadata": {},
          "execution_count": 32
        }
      ]
    }
  ],
  "metadata": {
    "colab": {
      "collapsed_sections": [
        "67cef13b"
      ],
      "provenance": [],
      "gpuType": "T4"
    },
    "kernelspec": {
      "display_name": "Python 3",
      "name": "python3"
    },
    "language_info": {
      "codemirror_mode": {
        "name": "ipython",
        "version": 3
      },
      "file_extension": ".py",
      "mimetype": "text/x-python",
      "name": "python",
      "nbconvert_exporter": "python",
      "pygments_lexer": "ipython3",
      "version": "3.11.0"
    },
    "accelerator": "GPU"
  },
  "nbformat": 4,
  "nbformat_minor": 5
}